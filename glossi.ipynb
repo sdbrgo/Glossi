{
  "nbformat": 4,
  "nbformat_minor": 0,
  "metadata": {
    "colab": {
      "provenance": [],
      "include_colab_link": true
    },
    "kernelspec": {
      "name": "python3",
      "display_name": "Python 3"
    },
    "language_info": {
      "name": "python"
    }
  },
  "cells": [
    {
      "cell_type": "markdown",
      "metadata": {
        "id": "view-in-github",
        "colab_type": "text"
      },
      "source": [
        "<a href=\"https://colab.research.google.com/github/sdbrgo/Glossi/blob/main/glossi.ipynb\" target=\"_parent\"><img src=\"https://colab.research.google.com/assets/colab-badge.svg\" alt=\"Open In Colab\"/></a>"
      ]
    },
    {
      "cell_type": "markdown",
      "source": [
        "## **Glossi, My Hair Care Buddy**\n",
        "\n",
        "\n"
      ],
      "metadata": {
        "id": "2RFJZG5meJIC"
      }
    },
    {
      "cell_type": "markdown",
      "source": [
        "1. Import Necessary Libraries"
      ],
      "metadata": {
        "id": "cuMIX78dede9"
      }
    },
    {
      "cell_type": "code",
      "source": [
        "import pandas as pd\n",
        "import matplotlib.pyplot as plt\n",
        "from sklearn.preprocessing import LabelEncoder\n",
        "from sklearn.model_selection import train_test_split\n",
        "from sklearn.linear_model import LinearRegression"
      ],
      "metadata": {
        "id": "dsQt1noremqb"
      },
      "execution_count": null,
      "outputs": []
    },
    {
      "cell_type": "markdown",
      "source": [
        "2. Import Dataset"
      ],
      "metadata": {
        "id": "wLUk8dH0rEri"
      }
    },
    {
      "cell_type": "code",
      "source": [
        "data = \"\" #insert name of the dataset\n",
        "df = pd.read_csv(data)\n",
        "df.head()"
      ],
      "metadata": {
        "id": "ZILuJxN-rAVl"
      },
      "execution_count": null,
      "outputs": []
    },
    {
      "cell_type": "markdown",
      "source": [
        "3. Preprocess Data\n",
        "\n",
        "*   **Encode** nominal values."
      ],
      "metadata": {
        "id": "QO8MtKJWrUS9"
      }
    },
    {
      "cell_type": "code",
      "source": [
        "le = LabelEncoder()\n",
        "#encode the nominal features\n",
        "df['shampoo_used_today'] = le.fit_transform(df['shampoo_used_today'])\n",
        "df['conditioner_used_today'] = le.fit_transform(df['conditioner_used_today'])\n",
        "df.head()"
      ],
      "metadata": {
        "id": "RRB1lPfmrcA5"
      },
      "execution_count": null,
      "outputs": []
    },
    {
      "cell_type": "markdown",
      "source": [
        "4. Train Model\n",
        "\n",
        "*   Use multiple linear regression\n"
      ],
      "metadata": {
        "id": "-yjWyVx3Woh_"
      }
    },
    {
      "cell_type": "code",
      "source": [],
      "metadata": {
        "id": "g3Sm8LS5XpxY"
      },
      "execution_count": null,
      "outputs": []
    }
  ]
}
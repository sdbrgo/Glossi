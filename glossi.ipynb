{
  "nbformat": 4,
  "nbformat_minor": 0,
  "metadata": {
    "colab": {
      "provenance": [],
      "authorship_tag": "ABX9TyPpWKxs9OvuwO8EoiQ6rIKq",
      "include_colab_link": true
    },
    "kernelspec": {
      "name": "python3",
      "display_name": "Python 3"
    },
    "language_info": {
      "name": "python"
    }
  },
  "cells": [
    {
      "cell_type": "markdown",
      "metadata": {
        "id": "view-in-github",
        "colab_type": "text"
      },
      "source": [
        "<a href=\"https://colab.research.google.com/github/sdbrgo/Glossi/blob/main/glossi.ipynb\" target=\"_parent\"><img src=\"https://colab.research.google.com/assets/colab-badge.svg\" alt=\"Open In Colab\"/></a>"
      ]
    },
    {
      "cell_type": "markdown",
      "source": [
        "## **Glossi, My Hair Care Buddy**\n",
        "\n",
        "\n"
      ],
      "metadata": {
        "id": "2RFJZG5meJIC"
      }
    },
    {
      "cell_type": "markdown",
      "source": [
        "1. Import Necessary Libraries"
      ],
      "metadata": {
        "id": "cuMIX78dede9"
      }
    },
    {
      "cell_type": "code",
      "source": [
        "import pandas as pd\n",
        "import matplotlib.pyplot as plt\n",
        "from sklearn.preprocessing import LabelEncoder, StandardScaler\n",
        "from sklearn.model_selection import train_test_split"
      ],
      "metadata": {
        "id": "dsQt1noremqb"
      },
      "execution_count": null,
      "outputs": []
    },
    {
      "cell_type": "markdown",
      "source": [
        "2. Import Dataset"
      ],
      "metadata": {
        "id": "wLUk8dH0rEri"
      }
    },
    {
      "cell_type": "code",
      "source": [
        "data = \"\" #insert name of the dataset\n",
        "df = pd.read_csv(data)\n",
        "df.head()"
      ],
      "metadata": {
        "id": "ZILuJxN-rAVl"
      },
      "execution_count": null,
      "outputs": []
    },
    {
      "cell_type": "markdown",
      "source": [
        "3. Preprocess Data\n",
        "\n",
        "*   **Encode** nominal values."
      ],
      "metadata": {
        "id": "QO8MtKJWrUS9"
      }
    },
    {
      "cell_type": "code",
      "source": [],
      "metadata": {
        "id": "RRB1lPfmrcA5"
      },
      "execution_count": null,
      "outputs": []
    }
  ]
}